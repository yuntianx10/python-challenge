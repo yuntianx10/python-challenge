{
 "cells": [
  {
   "cell_type": "code",
   "execution_count": 1,
   "id": "64c6d595",
   "metadata": {},
   "outputs": [],
   "source": [
    "import os\n",
    "import csv\n",
    "import pandas as pd\n",
    "\n",
    "csvpath = os.path.join('Resources','budget_data.csv')\n",
    "\n",
    "# Save the csv file as a Data Frame \n",
    "df = pd.read_csv(csvpath)\n",
    "\n",
    "# Calculate the Total months\n",
    "Total_Months = df.shape[0]\n",
    "\n",
    "# Calculate the net total amount of profit/losses over the entire period\n",
    "Total = df['Profit/Losses'].sum()"
   ]
  },
  {
   "cell_type": "code",
   "execution_count": 2,
   "id": "1671e6d1",
   "metadata": {},
   "outputs": [],
   "source": [
    "# Calculate the changes in \"Profit/Losses\" over the entire period\n",
    "# Create a changes list to contain the values that calculated from each month.\n",
    "changes = []\n",
    "changes.append(None)\n",
    "for i in range(0,85):\n",
    "    changes.append(df['Profit/Losses'][i+1] - df['Profit/Losses'][i])"
   ]
  },
  {
   "cell_type": "code",
   "execution_count": 3,
   "id": "19b3552c",
   "metadata": {},
   "outputs": [],
   "source": [
    "# Store the values into the data frame\n",
    "df['Changes'] = changes"
   ]
  },
  {
   "cell_type": "code",
   "execution_count": 4,
   "id": "9b6e5f41",
   "metadata": {},
   "outputs": [
    {
     "data": {
      "text/html": [
       "<div>\n",
       "<style scoped>\n",
       "    .dataframe tbody tr th:only-of-type {\n",
       "        vertical-align: middle;\n",
       "    }\n",
       "\n",
       "    .dataframe tbody tr th {\n",
       "        vertical-align: top;\n",
       "    }\n",
       "\n",
       "    .dataframe thead th {\n",
       "        text-align: right;\n",
       "    }\n",
       "</style>\n",
       "<table border=\"1\" class=\"dataframe\">\n",
       "  <thead>\n",
       "    <tr style=\"text-align: right;\">\n",
       "      <th></th>\n",
       "      <th>Date</th>\n",
       "      <th>Profit/Losses</th>\n",
       "      <th>Changes</th>\n",
       "    </tr>\n",
       "  </thead>\n",
       "  <tbody>\n",
       "    <tr>\n",
       "      <th>0</th>\n",
       "      <td>Jan-10</td>\n",
       "      <td>1088983</td>\n",
       "      <td>NaN</td>\n",
       "    </tr>\n",
       "    <tr>\n",
       "      <th>1</th>\n",
       "      <td>Feb-10</td>\n",
       "      <td>-354534</td>\n",
       "      <td>-1443517.0</td>\n",
       "    </tr>\n",
       "    <tr>\n",
       "      <th>2</th>\n",
       "      <td>Mar-10</td>\n",
       "      <td>276622</td>\n",
       "      <td>631156.0</td>\n",
       "    </tr>\n",
       "    <tr>\n",
       "      <th>3</th>\n",
       "      <td>Apr-10</td>\n",
       "      <td>-728133</td>\n",
       "      <td>-1004755.0</td>\n",
       "    </tr>\n",
       "    <tr>\n",
       "      <th>4</th>\n",
       "      <td>May-10</td>\n",
       "      <td>852993</td>\n",
       "      <td>1581126.0</td>\n",
       "    </tr>\n",
       "  </tbody>\n",
       "</table>\n",
       "</div>"
      ],
      "text/plain": [
       "     Date  Profit/Losses    Changes\n",
       "0  Jan-10        1088983        NaN\n",
       "1  Feb-10        -354534 -1443517.0\n",
       "2  Mar-10         276622   631156.0\n",
       "3  Apr-10        -728133 -1004755.0\n",
       "4  May-10         852993  1581126.0"
      ]
     },
     "execution_count": 4,
     "metadata": {},
     "output_type": "execute_result"
    }
   ],
   "source": [
    "df.head()"
   ]
  },
  {
   "cell_type": "code",
   "execution_count": 5,
   "id": "89a8f0cb",
   "metadata": {},
   "outputs": [],
   "source": [
    "# Calculate the average of Changes\n",
    "Average_Changes = df['Changes'].mean()"
   ]
  },
  {
   "cell_type": "code",
   "execution_count": 6,
   "id": "ec387aa3",
   "metadata": {},
   "outputs": [],
   "source": [
    "# Calculate the greatest increase in profits\n",
    "Greatest_Increase = df['Changes'].max()\n",
    "Greatest_Increase_Date = df.loc[df['Changes'] == Greatest_Increase,'Date'].values[0]"
   ]
  },
  {
   "cell_type": "code",
   "execution_count": 7,
   "id": "9ac1ab58",
   "metadata": {},
   "outputs": [
    {
     "data": {
      "text/plain": [
       "'Aug-16'"
      ]
     },
     "execution_count": 7,
     "metadata": {},
     "output_type": "execute_result"
    }
   ],
   "source": [
    "Greatest_Increase_Date"
   ]
  },
  {
   "cell_type": "code",
   "execution_count": 8,
   "id": "3ca7aee0",
   "metadata": {},
   "outputs": [
    {
     "data": {
      "text/plain": [
       "'Feb-14'"
      ]
     },
     "execution_count": 8,
     "metadata": {},
     "output_type": "execute_result"
    }
   ],
   "source": [
    "# Calculate the greatest decrease in profits\n",
    "Greatest_Decrease = df['Changes'].min()\n",
    "Greatest_Decrease_Date = df.loc[df['Changes'] == Greatest_Decrease,'Date'].values[0]\n",
    "Greatest_Decrease_Date"
   ]
  },
  {
   "cell_type": "code",
   "execution_count": 9,
   "id": "a9501dcf",
   "metadata": {},
   "outputs": [],
   "source": [
    "# Set path for results text file\n",
    "txt_path = 'analysis/results.txt'"
   ]
  },
  {
   "cell_type": "code",
   "execution_count": 10,
   "id": "e8ecd830",
   "metadata": {},
   "outputs": [
    {
     "name": "stdout",
     "output_type": "stream",
     "text": [
      "Financial Analysis\n",
      "----------------------------\n",
      "Total Months:86\n",
      "Total: 22564198\n",
      "Average Change: $-8311.105882352942\n",
      "Greatest Increase in Profits: Aug-16 1862002.0\n",
      "Greatest Decrease in Profits: Feb-14 -1825558.0\n"
     ]
    }
   ],
   "source": [
    "# Print results in terminal\n",
    "print (\"Financial Analysis\\n\"+\n",
    "        \"----------------------------\\n\" +\n",
    "        \"Total Months:\" + str(Total_Months)+\"\\n\" +\n",
    "        \"Total: \"+ str(Total)+\"\\n\" +\n",
    "        \"Average Change: $\" + str(Average_Changes)+\"\\n\" +\n",
    "        \"Greatest Increase in Profits: \" + str(Greatest_Increase_Date) + \" \"+ str(Greatest_Increase) +\"\\n\" +\n",
    "        \"Greatest Decrease in Profits: \" + str(Greatest_Decrease_Date) + \" \"+ str(Greatest_Decrease))"
   ]
  },
  {
   "cell_type": "code",
   "execution_count": 32,
   "id": "aa28bc3c",
   "metadata": {},
   "outputs": [],
   "source": [
    "# Write changes to the txt file\n",
    "with open (txt_path, 'w') as file:\n",
    "    file.write (\"Financial Analysis\\n\"+\n",
    "                \"----------------------------\\n\" +\n",
    "                \"Total Months:\" + str(Total_Months)+\"\\n\" +\n",
    "                \"Total: \"+ str(Total)+\"\\n\" +\n",
    "                \"Average Change: $\" + str(Average_Changes)+\"\\n\" +\n",
    "                \"Greatest Increase in Profits: \" + str(Greatest_Increase_Date) + \" \"+ str(Greatest_Increase) +\"\\n\" +\n",
    "                \"Greatest Decrease in Profits: \" + str(Greatest_Decrease_Date) + \" \"+ str(Greatest_Decrease))\n",
    "    file.close()"
   ]
  },
  {
   "cell_type": "code",
   "execution_count": null,
   "id": "a7c1dbb6",
   "metadata": {},
   "outputs": [],
   "source": []
  }
 ],
 "metadata": {
  "kernelspec": {
   "display_name": "Python 3 (ipykernel)",
   "language": "python",
   "name": "python3"
  },
  "language_info": {
   "codemirror_mode": {
    "name": "ipython",
    "version": 3
   },
   "file_extension": ".py",
   "mimetype": "text/x-python",
   "name": "python",
   "nbconvert_exporter": "python",
   "pygments_lexer": "ipython3",
   "version": "3.9.7"
  }
 },
 "nbformat": 4,
 "nbformat_minor": 5
}
