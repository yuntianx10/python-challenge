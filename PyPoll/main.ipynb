{
 "cells": [
  {
   "cell_type": "code",
   "execution_count": 1,
   "id": "d4058e1d",
   "metadata": {},
   "outputs": [],
   "source": [
    "import pandas as pd"
   ]
  },
  {
   "cell_type": "code",
   "execution_count": 2,
   "id": "2879d363",
   "metadata": {},
   "outputs": [],
   "source": [
    "# Read csv file as a data frame\n",
    "df = pd.read_csv('Resources/election_data.csv')"
   ]
  },
  {
   "cell_type": "code",
   "execution_count": 3,
   "id": "c7758068",
   "metadata": {},
   "outputs": [],
   "source": [
    "# Get the total number of votes\n",
    "Total_Votes = df.shape[0]"
   ]
  },
  {
   "cell_type": "code",
   "execution_count": 4,
   "id": "b0e2d304",
   "metadata": {},
   "outputs": [],
   "source": [
    "# The percentage of votes each candidate won\n",
    "Percent = df['Candidate'].value_counts(normalize = True)*100"
   ]
  },
  {
   "cell_type": "code",
   "execution_count": 5,
   "id": "73ae8246",
   "metadata": {},
   "outputs": [],
   "source": [
    "# The Total votes each candidate won\n",
    "Candidate_Votes = df['Candidate'].value_counts()"
   ]
  },
  {
   "cell_type": "code",
   "execution_count": 6,
   "id": "a58c1a3e",
   "metadata": {},
   "outputs": [],
   "source": [
    "# Winner of the election based on popular vote\n",
    "# first get the max value in Percent (Percent is series)\n",
    "# Then find the max value and get the index of it\n",
    "Max = Percent.max()\n",
    "Winner = Percent[Percent == Max].index[0]"
   ]
  },
  {
   "cell_type": "code",
   "execution_count": 7,
   "id": "37cbc37f",
   "metadata": {},
   "outputs": [
    {
     "name": "stdout",
     "output_type": "stream",
     "text": [
      "Election Results \n",
      "-------------------------\n",
      "Total Votes: 369711\n",
      "-------------------------\n",
      "Diana DeGette: 73.81224794501652%(272892)\n",
      "Charles Casper Stockham: 23.04854332167558%(85213)\n",
      "Raymon Anthony Doane: 3.1392087333079077%(11606)\n",
      "-------------------------\n",
      "Winner: Diana DeGette\n"
     ]
    }
   ],
   "source": [
    "# Print the results in terminal\n",
    "print(\"Election Results \\n\" + \n",
    "       \"-------------------------\\n\"+\n",
    "       \"Total Votes: \" + str(Total_Votes) + \"\\n\" + \n",
    "       \"-------------------------\\n\" + \n",
    "       str(Percent.index[0]) + \": \" + str(Percent[0]) + \"%\" + \"(\" + str(Candidate_Votes[0]) + \")\\n\" +\n",
    "       str(Percent.index[1]) + \": \" + str(Percent[1]) + \"%\" + \"(\" + str(Candidate_Votes[1]) + \")\\n\" +\n",
    "       str(Percent.index[2]) + \": \" + str(Percent[2]) + \"%\" + \"(\" + str(Candidate_Votes[2]) + \")\\n\" +\n",
    "       \"-------------------------\\n\" + \n",
    "       \"Winner: \" + str(Winner))"
   ]
  },
  {
   "cell_type": "code",
   "execution_count": 8,
   "id": "32544282",
   "metadata": {},
   "outputs": [],
   "source": [
    "# Writing results into a txt file\n",
    "txt_path = 'analysis/results.txt'\n",
    "\n",
    "with open (txt_path, 'w') as file:\n",
    "    file.write (\"Election Results \\n\" + \n",
    "               \"-------------------------\\n\"+\n",
    "               \"Total Votes: \" + str(Total_Votes) + \"\\n\" + \n",
    "                \"-------------------------\\n\" + \n",
    "                str(Percent.index[0]) + \": \" + str(Percent[0]) + \"%\" + \"(\" + str(Candidate_Votes[0]) + \")\\n\" +\n",
    "                 str(Percent.index[1]) + \": \" + str(Percent[1]) + \"%\" + \"(\" + str(Candidate_Votes[1]) + \")\\n\" +\n",
    "                 str(Percent.index[2]) + \": \" + str(Percent[2]) + \"%\" + \"(\" + str(Candidate_Votes[2]) + \")\\n\" +\n",
    "                \"-------------------------\\n\" + \n",
    "                \"Winner: \" + str(Winner))\n"
   ]
  },
  {
   "cell_type": "code",
   "execution_count": null,
   "id": "4212ec37",
   "metadata": {},
   "outputs": [],
   "source": []
  }
 ],
 "metadata": {
  "kernelspec": {
   "display_name": "Python 3 (ipykernel)",
   "language": "python",
   "name": "python3"
  },
  "language_info": {
   "codemirror_mode": {
    "name": "ipython",
    "version": 3
   },
   "file_extension": ".py",
   "mimetype": "text/x-python",
   "name": "python",
   "nbconvert_exporter": "python",
   "pygments_lexer": "ipython3",
   "version": "3.9.7"
  }
 },
 "nbformat": 4,
 "nbformat_minor": 5
}
